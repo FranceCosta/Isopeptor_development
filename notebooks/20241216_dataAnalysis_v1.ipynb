{
 "cells": [
  {
   "cell_type": "markdown",
   "metadata": {},
   "source": [
    "# Analyse Biochemical data"
   ]
  },
  {
   "cell_type": "code",
   "execution_count": 1,
   "metadata": {},
   "outputs": [],
   "source": [
    "import pandas as pd\n",
    "import numpy as np \n",
    "import os \n",
    "from dotenv import load_dotenv\n",
    "import seaborn as sns\n",
    "import matplotlib.pyplot as plt\n",
    "from Bio import SeqIO\n",
    "import warnings\n",
    "from Bio import BiopythonParserWarning\n",
    "warnings.simplefilter('ignore', BiopythonParserWarning)"
   ]
  },
  {
   "cell_type": "code",
   "execution_count": 2,
   "metadata": {},
   "outputs": [],
   "source": [
    "def get_sequence(row, pdb = True)->str:\n",
    "    \"\"\"\n",
    "\n",
    "        Get sequence from structure. Consider +-20 amino acids from \n",
    "        first and last isopeptide bond amino acid\n",
    "    \n",
    "    \"\"\"\n",
    "    structure_path = row[\"structure_path\"]\n",
    "    if pdb:\n",
    "        r1 = row[\"Position 1\\r\\n(Bond 1)\"]\n",
    "        r2 = row[\"Position 2\\r\\n(catalytic)\"]\n",
    "        r3 = row[\"Position 3\\r\\n(Bond 2)\"]\n",
    "    else:\n",
    "        r1 = row[\"r1_af\"]\n",
    "        r2 = row[\"r2_af\"]\n",
    "        r3 = row[\"r3_af\"]\n",
    "    seq_start = min([r1, r2, r3])\n",
    "    seq_end = max([r1, r2, r3])\n",
    "    sequence = list(SeqIO.parse(structure_path, \"pdb-atom\"))[0]\n",
    "    # Adjust seq start and end based on pdb seq structure start and end\n",
    "    pdb_start = sequence.annotations[\"start\"]\n",
    "    seq_start = seq_start - pdb_start - 20\n",
    "    seq_end = seq_end - pdb_start + 20\n",
    "    if seq_start < 0:\n",
    "        seq_start = 0\n",
    "    return str(sequence.seq)[seq_start:seq_end]"
   ]
  },
  {
   "cell_type": "code",
   "execution_count": 3,
   "metadata": {},
   "outputs": [],
   "source": [
    "load_dotenv(\"../.env\")\n",
    "TABLE = os.getenv(\"TABLE\")\n",
    "PDB_BIOCHEM = os.getenv(\"PDB_BIOCHEM\")\n",
    "POSITIVE_CONTROL = os.getenv(\"POSITIVE_CONTROL\")"
   ]
  },
  {
   "cell_type": "code",
   "execution_count": 4,
   "metadata": {},
   "outputs": [],
   "source": [
    "df = pd.read_csv(TABLE)\n",
    "df_bc = pd.read_csv(PDB_BIOCHEM)\n",
    "\n",
    "df[\"structure_path\"] = df.apply(lambda x:\n",
    "                                os.path.join(POSITIVE_CONTROL, x[\"PDB code\"]+\"_\"+x[\"Chain\"]+\".pdb\"), axis=1)\n",
    "df[\"sequence\"] = df.apply(lambda x: get_sequence(x), axis=1)\n",
    "df_bc = pd.merge(df_bc, df[[\"PDB code\", \"Chain\", \"Position 1\\r\\n(Bond 1)\", \"sequence\"]])"
   ]
  },
  {
   "cell_type": "markdown",
   "metadata": {},
   "source": [
    "## Cis/trans"
   ]
  },
  {
   "cell_type": "code",
   "execution_count": 19,
   "metadata": {},
   "outputs": [
    {
     "data": {
      "text/plain": [
       "Isopeptide type  Cis    Trans\n",
       "CnaB-like        False  True     0.60\n",
       "                 True   False    0.21\n",
       "                 False  False    0.19\n",
       "Name: proportion, dtype: float64"
      ]
     },
     "execution_count": 19,
     "metadata": {},
     "output_type": "execute_result"
    }
   ],
   "source": [
    "cond1 = (df_bc[\"Is bonded\"])\n",
    "cond2 = (~df_bc[\"Interchain\"])\n",
    "cond3 = (~df_bc[\"Bad rotamer\"])\n",
    "cond4 = (df_bc[\"Isopeptide type\"]!=\"Mutant\")\n",
    "mod_df = df_bc[cond1 & cond2 & cond3 & cond4].drop_duplicates(\"sequence\").copy()\n",
    "mod_df[\"Cis\"] = False\n",
    "mod_df.loc[(mod_df[\"pseudo_omega\"]>-40)&(mod_df[\"pseudo_omega\"]<40), \"Cis\"] = True\n",
    "mod_df[\"Trans\"] = False\n",
    "mod_df.loc[(mod_df[\"pseudo_omega\"]<-150)|(mod_df[\"pseudo_omega\"]>150), \"Trans\"] = True\n",
    "mod_df[mod_df[\"Isopeptide type\"]==\"CnaB-like\"].value_counts([\"Isopeptide type\", \"Cis\", \"Trans\"], normalize=True).round(2)"
   ]
  },
  {
   "cell_type": "code",
   "execution_count": null,
   "metadata": {},
   "outputs": [],
   "source": []
  },
  {
   "cell_type": "code",
   "execution_count": null,
   "metadata": {},
   "outputs": [],
   "source": []
  }
 ],
 "metadata": {
  "kernelspec": {
   "display_name": "Python 3 (ipykernel)",
   "language": "python",
   "name": "python3"
  },
  "language_info": {
   "codemirror_mode": {
    "name": "ipython",
    "version": 3
   },
   "file_extension": ".py",
   "mimetype": "text/x-python",
   "name": "python",
   "nbconvert_exporter": "python",
   "pygments_lexer": "ipython3",
   "version": "3.12.2"
  }
 },
 "nbformat": 4,
 "nbformat_minor": 4
}
