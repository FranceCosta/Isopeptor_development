{
 "cells": [
  {
   "cell_type": "markdown",
   "metadata": {},
   "source": [
    "# Test different templates\n",
    "- use neg control 1 (30% seq id removed from enzymes+ion binding)\n",
    "- made sure that all templates are found in scan\n",
    "- for each templates set, run on above test set, remove matches target-template with id >30% only for pos set\n",
    "- run on AF2 templates"
   ]
  },
  {
   "cell_type": "code",
   "execution_count": 1,
   "metadata": {},
   "outputs": [],
   "source": [
    "import pandas as pd\n",
    "import os\n",
    "import seaborn as sns\n",
    "import matplotlib.pyplot as plt\n",
    "import shutil\n",
    "import subprocess\n",
    "import re\n",
    "from typing import Callable\n",
    "import biotite.structure.io.pdb as pdb\n",
    "import biotite.structure as struc\n",
    "import numpy as np"
   ]
  },
  {
   "cell_type": "code",
   "execution_count": 2,
   "metadata": {},
   "outputs": [],
   "source": [
    "# Utility functions\n",
    "\n",
    "def saveTemplate(path:str, atom_array, res_type=-1) -> None:\n",
    "    \"\"\"\n",
    "    \n",
    "        Save into template file using PDB format\n",
    "\n",
    "        PARAMETERS\n",
    "        ----------\n",
    "        path:str path to template;\n",
    "        atom_array: biotite atom array;\n",
    "        res_type: int based on Tess paper (doi.org/10.1002%2Fpro.5560061104) {-1: \"Template atom\", 0: \"Search by atom type\", \n",
    "                                                                              1: \"Non-carbon side chain atom\", 2: \"Non-carbon atom\", \n",
    "                                                                              3: \"Search by specified atom\", 4: \"Non-carbon main chain atom\",\n",
    "                                                                              5: \"Search by any main chain atom\", 6: \"Search by any side chain atom\",\n",
    "                                                                              7: \"Search by any atom type\"}\n",
    "    \n",
    "    \"\"\"\n",
    "    atom_format_string = (\n",
    "        \"%s%7i  %-4s%3s %c%4i    %8.3f%8.3f%8.3f\\n\"\n",
    "    )\n",
    "    with open(path, \"w\") as fh:\n",
    "        \n",
    "        for atom in atom_array:\n",
    "            j = tuple([\"ATOM\", res_type, atom.atom_name, atom.res_name, atom.chain_id, atom.res_id, atom.coord[0], atom.coord[1], atom.coord[2]])\n",
    "            fh.write(atom_format_string % j)\n",
    "\n",
    "def createTemplates(df:pd.DataFrame, out_templates:str, sub:Callable) -> list:\n",
    "    \"\"\"\n",
    "    \n",
    "\n",
    "        Create Jess templates\n",
    "\n",
    "        PARAMETERS\n",
    "        ----------\n",
    "        df:pd.DataFrame, data frame storing isopeptide bond formations\n",
    "        out_templates:str, path to output folder\n",
    "        sub:Callable, function to subset atoms to be used as templates\n",
    "\n",
    "        RETURNS\n",
    "        -------\n",
    "        used_templates:list, list of used templates\n",
    "    \n",
    "    \"\"\"\n",
    "    # Create templates\n",
    "    shutil.rmtree(out_templates)\n",
    "    os.makedirs(out_templates, exist_ok=True)\n",
    "    \n",
    "    # Specify conditions for templates\n",
    "    \n",
    "    cond1 = (df[\"Is bonded\"] == True)\n",
    "    cond2 = (df[\"Interchain\"] == False)\n",
    "    cond3 = (df[\"Bad rotamer\"] == False)\n",
    "    cond4 = (df[\"Residue 1\"] == \"K\")\n",
    "    cond5 = (df[\"Residue 2\"].isin([\"D\", \"E\"]))\n",
    "    cond6 = (df[\"Residue 2\"].isin([\"N\", \"D\", \"E\"]))\n",
    "    cond7 = (df[\"Resolution\"]<=2.5)\n",
    "    cond8 = (df[\"Unusual geometry/chemistry\"]==False)\n",
    "    \n",
    "    sub_df = df[cond1 & cond2 & cond3 & cond4 & cond5 & cond7 & cond8]\n",
    "    \n",
    "    # Use the same template for all to align\n",
    "    ref_chain = sub_df.iloc[0][\"Chain\"]\n",
    "    ref_pdb = sub_df.iloc[0][\"PDB code\"]\n",
    "    ref_r1 = sub_df.iloc[0][\"Position 1\\r\\n(Bond 1)\"]\n",
    "    ref_r2 = sub_df.iloc[0][\"Position 2\\r\\n(catalytic)\"]\n",
    "    ref_r3 = sub_df.iloc[0][\"Position 3\\r\\n(Bond 2)\"]\n",
    "    ref_residues = [ref_r1, ref_r2, ref_r3]\n",
    "    \n",
    "    ref_s_path = os.path.join(POSITIVE_DATASET, f\"{ref_pdb}_{ref_chain}.pdb\")\n",
    "    pdb_file = pdb.PDBFile.read(ref_s_path)\n",
    "    ref_s = pdb_file.get_structure()\n",
    "    # Subset only lys\n",
    "    ref_template = struc.array([atom for atom in ref_s[0] if atom.res_id == ref_r1])\n",
    "    used_templates = []\n",
    "    \n",
    "    for _, row in sub_df.iterrows():\n",
    "        chain = row[\"Chain\"]\n",
    "        pdb_code = row[\"PDB code\"]\n",
    "        r1 = row[\"Position 1\\r\\n(Bond 1)\"]\n",
    "        r2 = row[\"Position 2\\r\\n(catalytic)\"]\n",
    "        r3 = row[\"Position 3\\r\\n(Bond 2)\"]\n",
    "        s2_path = os.path.join(POSITIVE_DATASET, f\"{pdb_code}_{chain}.pdb\")\n",
    "        pdb_file = pdb.PDBFile.read(s2_path) \n",
    "        s2 = pdb_file.get_structure() \n",
    "        s2_res = [r1, r2, r3]\n",
    "        out_struct_path = os.path.join(out_templates, f\"{pdb_code}_{chain}_{int(r1)}_{int(r2)}_{int(r3)}.pdb\")\n",
    "        s2_sub = struc.array([atom for atom in s2[0] if atom.res_id in s2_res and \"H\" not in atom.atom_name])\n",
    "        s2_lys = struc.array([atom for atom in s2[0] if atom.res_id == r1 and \"H\" not in atom.atom_name])\n",
    "        s2_t = None\n",
    "        try:\n",
    "            _, transformation = struc.superimpose(fixed=ref_template, mobile=s2_lys)\n",
    "            # Apply transformation based on K to rest of residue\n",
    "            s2_t = transformation.apply(s2_sub)\n",
    "            \n",
    "        except ValueError:\n",
    "            print(f\"Transformation error for: {pdb_code}, number of residues in K {r1} is {len(s2_lys)}, expected: {len(ref_template)}\")\n",
    "            # Skip if no NZ\n",
    "            if not \"NZ\" in [atom.atom_name for atom in s2_lys]:\n",
    "                print(\"Found no NZ atom, skipping\")\n",
    "                continue\n",
    "            # Reduce atoms from template cause mobile Lys could have less atoms (usually no N)\n",
    "            atoms_to_consider = [atom.atom_name for atom in s2_lys]\n",
    "            ref_template_reduced = struc.array([atom for atom in ref_template if atom.atom_name in atoms_to_consider])\n",
    "            # Try again\n",
    "            _, transformation = struc.superimpose(fixed=ref_template_reduced, mobile=s2_lys)\n",
    "            # Apply transformation based on K to rest of residue\n",
    "            s2_t = struc.superimpose_apply(s2_sub, transformation)\n",
    "    \n",
    "        # Subset\n",
    "        s2_t = sub(s2_t)\n",
    "        saveTemplate( out_struct_path, s2_t)\n",
    "        used_templates.append(out_struct_path)\n",
    "\n",
    "    return used_templates\n",
    "\n",
    "def parse(jess_output:str) -> pd.DataFrame():\n",
    "    \"\"\"\n",
    "\n",
    "        Parses Jess raw output from scanning PDB structures into a table ['target', 'rmsd', 'template', 'chain', 'target_residues', 'template_residues']\n",
    "        Deprecated\n",
    "    \n",
    "    \"\"\"\n",
    "    # Parse results\n",
    "    line_to_info = re.compile(\"REMARK ([a-z/A-Z_0-9.pdb-]{,200}) ([0-9].[0-9]{3}) ([a-z/A-Z_0-9.pdb-]{,200}) Det= [-]{,2}(?:[0-9].[0-9]|nan) log\\\\(E\\\\)~([ -]{,2}[0-9]{,3}.[0-9]{2})\")\n",
    "    \n",
    "    outlist = []\n",
    "    for line in jess_output.split(\"\\n\"):\n",
    "        \n",
    "        if line.startswith(\"REMARK\"):\n",
    "            try:\n",
    "                match_ = line_to_info.findall(line)[0]\n",
    "            except IndexError:\n",
    "                print(line)\n",
    "            assert len(match_) == 4, f\"{match_}\"\n",
    "            target_path = match_[0]\n",
    "            target = target_path.split(\"/\")[-1].replace(\".pdb\", \"\")\n",
    "            rmsd = float(match_[1])\n",
    "            template = match_[2].split(\"/\")[-1].replace(\".pdb\", \"\")\n",
    "            loge = float(match_[3].strip())\n",
    "            sublist = [target, target_path, rmsd, template]\n",
    "            residues = []\n",
    "            chain = None\n",
    "            \n",
    "        if line.startswith(\"ATOM\"):\n",
    "            chain = line[21]\n",
    "            resi = int(line[22:26].strip())\n",
    "            residues.append(resi)\n",
    "        \n",
    "        if line.startswith(\"ENDMDL\"):\n",
    "            sublist.append(chain)\n",
    "            sublist.append(set(residues))\n",
    "            outlist.append(sublist)\n",
    "            sublist = []\n",
    "        \n",
    "    res_df = pd.DataFrame(outlist, columns=['target', 'target_path', 'rmsd', 'template', 'chain', 'target_residues'])\n",
    "    res_df['template_residues'] = res_df[\"template\"].apply(lambda x: set([int(i) for i in x.split(\"_\")[2:]]))\n",
    "    res_df['template'] = res_df[\"template\"].apply(lambda x: \"_\".join(x.split(\"_\")[:2]))\n",
    "    res_df[\"target_residues\"] = res_df[\"target_residues\"].apply(lambda x: \"_\".join([str(_) for _ in sorted(x)]))\n",
    "    res_df[\"template_residues\"] = res_df[\"template_residues\"].apply(lambda x: \"_\".join([str(_) for _ in sorted(x)]))\n",
    "    res_df[\"target_id\"] = res_df.apply(lambda x: x[\"target\"].lower().split(\"_\")[0]+\"_\"+x[\"chain\"].lower()+\"_\"+x[\"target_residues\"], axis=1)\n",
    "\n",
    "    return res_df\n",
    "\n",
    "def overlap(set1, set2):\n",
    "    \"\"\"\n",
    "    \n",
    "        Get the overlap (in terms of raw counts)\n",
    "    \n",
    "    \"\"\"\n",
    "    \"\"\"\n",
    "    rng = min(set1.min(), set2.min()), max(set1.max(), set2.max())\n",
    "\n",
    "    hist1, _ = np.histogram(set1, bins=nbins, range=rng)\n",
    "    hist2, _ = np.histogram(set2, bins=nbins, range=rng)\n",
    "    return np.sum(np.minimum(hist1, hist2))\n",
    "    \"\"\"\n",
    "    set1_max = set1.max()\n",
    "    set_2_min = set2.min()\n",
    "    overlap_ = 0\n",
    "    # Overlapping entries from set1 if max of set 1 is above min of set 2\n",
    "    # Overlapping entries from set2 if min of set 2 is below max of set 1\n",
    "    if set1_max >= set_2_min:\n",
    "        overlap_ = len([i for i in set1 if i >= set_2_min]) + len([i for i in set2 if i <= set1_max])\n",
    "\n",
    "    return overlap_\n",
    "\n",
    "MAX_ASA = { \"rost_sander\": { \"LYS\": 205, \"ASP\": 163, \"GLU\": 194, \"ASN\": 157 }}\n",
    "def getASA(row) -> float:\n",
    "    \"\"\"\n",
    "    \n",
    "        Calculates rASA of isopep residues. Returns average value. Use mash points == 100 to speed up computation\n",
    "    \n",
    "    \"\"\"\n",
    "    rASA = np.NaN\n",
    "    struct_path = row[\"structure_path\"]\n",
    "    chain = row[\"chain\"]\n",
    "    r1, r2, r3 = [int(i) for i in row[\"match_residues\"].split(\"_\")]\n",
    "    pdb_file = pdb.PDBFile.read(struct_path)\n",
    "    # Exclude water\n",
    "    structure = struc.array([atom for atom in pdb_file.get_structure()[0] if atom.hetero==False and atom.chain_id==chain])\n",
    "    # Consider whole structure to calculate sASA\n",
    "    try:\n",
    "        structure_sasa = struc.sasa(structure, point_number=500)\n",
    "        # Get indeces\n",
    "        r1_indx = [i for i, atom in enumerate(structure) if atom.res_id == r1]\n",
    "        r2_indx = [i for i, atom in enumerate(structure) if atom.res_id == r2]\n",
    "        r3_indx = [i for i, atom in enumerate(structure) if atom.res_id == r3]\n",
    "\n",
    "        r1_aa = structure[r1_indx[0]].res_name\n",
    "        r2_aa = structure[r2_indx[0]].res_name\n",
    "        r3_aa = structure[r3_indx[0]].res_name\n",
    "        \n",
    "        r1_asa = sum([structure_sasa[i] for i in r1_indx]) / MAX_ASA[\"rost_sander\"][r1_aa]\n",
    "        r2_asa = sum([structure_sasa[i] for i in r2_indx]) / MAX_ASA[\"rost_sander\"][r2_aa]\n",
    "        r3_asa = sum([structure_sasa[i] for i in r3_indx]) / MAX_ASA[\"rost_sander\"][r3_aa]\n",
    "        \n",
    "        rASA = [r1_asa, r2_asa, r3_asa]\n",
    "        \n",
    "    except IndexError:\n",
    "        \"\"\n",
    "        rASA = np.NaN\n",
    "        \n",
    "    except KeyError:\n",
    "        rASA = np.NaN\n",
    "\n",
    "    return rASA"
   ]
  },
  {
   "cell_type": "code",
   "execution_count": 3,
   "metadata": {},
   "outputs": [],
   "source": [
    "from dotenv import load_dotenv\n",
    "load_dotenv(\"../../.env\")\n",
    "JESS = os.getenv(\"JESS\")\n",
    "NEGATIVE_DATASET = os.getenv(\"NEGATIVE_CONTROL_3\")+\"_training\"\n",
    "POSITIVE_DATASET = os.getenv(\"POSITIVE_CONTROL\")\n",
    "TABLE = os.getenv(\"TABLE\")\n",
    "POSITIVE_CONTROL_IDENTITIES = os.getenv(\"POSITIVE_CONTROL_IDENTITIES\")\n",
    "INPUT_STRUCTURES_FILES = \"output/structures\"\n",
    "AF2_POS_SET = os.getenv(\"AF2_POS_SET\")\n",
    "AF2_POS_SET_TEMPLATES = os.getenv(\"AF2_POS_SET_TEMPLATES\")\n",
    "AF2_BIOCHEM = os.getenv(\"AF2_BIOCHEM\")\n",
    "AF2_TEMPLATES_BIOCHEM = os.getenv(\"AF2_TEMPLATES_BIOCHEM\")"
   ]
  },
  {
   "cell_type": "code",
   "execution_count": 4,
   "metadata": {},
   "outputs": [],
   "source": [
    "df = pd.read_csv(TABLE)\n",
    "df[\"id\"] = df.apply(lambda x: f\"{x['PDB code']}_\"+\n",
    "                    x[\"Chain\"]+\"_\"+\"_\".join( \n",
    "                        [str(i) for i in sorted(\n",
    "                            [\n",
    "                            x[\"Position 1\\r\\n(Bond 1)\"],\n",
    "                            x[\"Position 2\\r\\n(catalytic)\"],\n",
    "                            x[\"Position 3\\r\\n(Bond 2)\"]\n",
    "                            ]\n",
    "                            )]\n",
    "                            ), axis=1)\n",
    "\n",
    "# Get all vs all identities\n",
    "# Wehere coming from?\n",
    "identity_df = pd.read_csv(POSITIVE_CONTROL_IDENTITIES)\n",
    "# Make it reciprocal\n",
    "identity_df = pd.concat([identity_df, identity_df.rename(columns={\"Query\":\"Target\", \"Target\":\"Query\"})])\n",
    "identity_df[\"Query\"] = identity_df[\"Query\"].apply(lambda x: x.lower())\n",
    "identity_df[\"Target\"] = identity_df[\"Target\"].apply(lambda x: x.lower())\n",
    "identity_df = identity_df.drop_duplicates()"
   ]
  },
  {
   "cell_type": "code",
   "execution_count": 5,
   "metadata": {},
   "outputs": [],
   "source": [
    "# Create input structures file\n",
    "with open(INPUT_STRUCTURES_FILES, \"w\") as fh:\n",
    "    for neg_file in os.listdir(NEGATIVE_DATASET):   \n",
    "        if neg_file.split(\".\")[-1] != \"pdb\":\n",
    "            continue\n",
    "        # Verify no negative files overlap with positive dataset\n",
    "        if neg_file.split(\"/\")[-1].replace(\".pdb\", \"\").lower() in df[\"PDB code\"].unique():\n",
    "            print(neg_file)\n",
    "            continue\n",
    "        fh.write(os.path.join(NEGATIVE_DATASET, neg_file)+\"\\n\")\n",
    "    for pos_file in os.listdir(POSITIVE_DATASET):\n",
    "        if pos_file.split(\".\")[-1] != \"pdb\":\n",
    "            continue\n",
    "        fh.write(os.path.join(POSITIVE_DATASET, pos_file)+\"\\n\")\n"
   ]
  },
  {
   "cell_type": "markdown",
   "metadata": {},
   "source": [
    "## Set 1"
   ]
  },
  {
   "cell_type": "code",
   "execution_count": 9,
   "metadata": {},
   "outputs": [],
   "source": [
    "SET = \"set1\"\n",
    "templates_file = f\"output/templates/{SET}/templates\""
   ]
  },
  {
   "cell_type": "code",
   "execution_count": 11,
   "metadata": {},
   "outputs": [],
   "source": [
    "def subsetAtoms(atom_array):\n",
    "    \"\"\"\n",
    "    \n",
    "        Subset atoms from atom array\n",
    "    \n",
    "    \"\"\"\n",
    "    subset = []\n",
    "    for atom in atom_array:\n",
    "        \n",
    "        if atom.res_name == \"ASP\":\n",
    "            if atom.atom_name == \"OD1\":\n",
    "                subset.append(atom)\n",
    "            elif atom.atom_name == \"OD2\":\n",
    "                subset.append(atom)\n",
    "                \n",
    "        elif atom.res_name == \"ASN\":\n",
    "            if atom.atom_name == \"OD1\":\n",
    "                subset.append(atom)\n",
    "            elif atom.atom_name == \"ND2\":\n",
    "                subset.append(atom)\n",
    "                \n",
    "        elif atom.res_name == \"GLU\":\n",
    "            if atom.atom_name == \"OE1\":\n",
    "                subset.append(atom)\n",
    "            elif atom.atom_name == \"OE2\":\n",
    "                subset.append(atom)\n",
    "        \n",
    "        elif atom.res_name == \"LYS\":\n",
    "            if atom.atom_name == \"NZ\":\n",
    "                subset.append(atom)\n",
    "\n",
    "    return struc.array(subset)"
   ]
  },
  {
   "cell_type": "code",
   "execution_count": 12,
   "metadata": {},
   "outputs": [],
   "source": [
    "templates_path = f\"output/templates/{SET}\"\n",
    "os.makedirs(templates_path, exist_ok=True)\n",
    "used_templates = createTemplates(df=df, out_templates=templates_path, sub=subsetAtoms)"
   ]
  },
  {
   "cell_type": "code",
   "execution_count": null,
   "metadata": {},
   "outputs": [],
   "source": [
    "with open(templates_file, \"w\") as fh:\n",
    "    for file in used_templates:\n",
    "        fh.write(f\"{file}\\n\")"
   ]
  },
  {
   "cell_type": "code",
   "execution_count": 13,
   "metadata": {},
   "outputs": [],
   "source": [
    "# Distance must be 1.5*RMSD\n",
    "cache_table = f\"output/{SET}_cached.csv\"\n",
    "if not os.path.exists(cache_table):\n",
    "    distance=5\n",
    "    rmsd_threshold, distance_cutoff, max_allowed_distance = [str(distance)]*3\n",
    "    cmd = [str(JESS), str(templates_file), str(INPUT_STRUCTURES_FILES), rmsd_threshold, distance_cutoff, max_allowed_distance]\n",
    "    \n",
    "    process = subprocess.Popen(\n",
    "        cmd, text=True, stdin=subprocess.PIPE, stdout=subprocess.PIPE, stderr=subprocess.PIPE\n",
    "    )\n",
    "    stdout, stderr = process.communicate()\n",
    "    res_df = parse(stdout)\n",
    "    res_df.to_csv(cache_table, index=False)\n",
    "else:\n",
    "    res_df = pd.read_csv(cache_table)"
   ]
  },
  {
   "cell_type": "code",
   "execution_count": 14,
   "metadata": {},
   "outputs": [],
   "source": [
    "res_df[\"true_positive\"] = 0\n",
    "templates = df[\"id\"].str.lower().unique()\n",
    "res_df.loc[res_df[\"target_id\"].isin(templates), \"true_positive\"] = 1\n",
    "res_df[\"template_id\"] = res_df.apply(lambda x: x[\"template\"].lower()+\"_\"+x[\"template_residues\"], axis=1)"
   ]
  },
  {
   "cell_type": "code",
   "execution_count": 15,
   "metadata": {},
   "outputs": [],
   "source": [
    "# Consider only matches with identity < 30 (apply only to positive set)\n",
    "# Exclude self matches\n",
    "plot_df = pd.merge(res_df, identity_df[identity_df[\"identity\"]>0.3].rename(columns={\"Query\":\"target_id\", \"Target\":\"template_id\"})\\\n",
    "        .assign(allowed=0), on=[\"target_id\", \"template_id\"], how=\"left\").fillna(1)\\\n",
    "        .query('allowed==1').query('target_id!=template_id')\n",
    "# Exclude some entries:\n",
    "to_exclude = df[(df[\"Bad rotamer\"])|(df[\"Interchain\"])|(~df[\"Is bonded\"])|(df[\"Unusual geometry/chemistry\"])][\"id\"].str.lower().to_list()\n",
    "plot_df = plot_df[~plot_df[\"target_id\"].isin(to_exclude)]\n",
    "# Remove duplicated entries from template-target inversion and only after this remove rmsd-duplicates\n",
    "plot_df[\"merged_id\"] = plot_df.apply(lambda x: \"-\".join(sorted([x[\"target_id\"], x[\"template_id\"]])), axis=1)\n",
    "plot_df = plot_df.drop_duplicates(\"merged_id\")\\\n",
    "        .sort_values(\"rmsd\").drop_duplicates([\"target\", \"target_residues\"], keep=\"first\")"
   ]
  },
  {
   "cell_type": "code",
   "execution_count": 23,
   "metadata": {},
   "outputs": [
    {
     "data": {
      "image/png": "[encoded data removed]",
      "text/plain": [
       "<Figure size 640x480 with 1 Axes>"
      ]
     },
     "metadata": {},
     "output_type": "display_data"
    }
   ],
   "source": [
    "fig, ax = plt.subplots()\n",
    "\n",
    "sns.histplot(plot_df, x=\"rmsd\", hue=\"true_positive\", fill=False, element=\"step\", common_norm=False, stat=\"percent\", ax=ax)\n",
    "sns.despine(offset=10, ax=ax)\n",
    "ax.legend(title=\"\", labels=[\"Positive\", \"Negative\"])\n",
    "ax.set_xlim([0, 3])\n",
    "ax.set_ylim([0, 30])\n",
    "\n",
    "ax.set_xlabel(\"RMSD template-target\")\n",
    "\n",
    "plt.savefig(\"../../tmp/set1.png\", dpi=400, transparent=True, bbox_inches=\"tight\")"
   ]
  },
  {
   "cell_type": "code",
   "execution_count": 17,
   "metadata": {},
   "outputs": [
    {
     "data": {
      "text/plain": [
       "1063"
      ]
     },
     "execution_count": 17,
     "metadata": {},
     "output_type": "execute_result"
    }
   ],
   "source": [
    "overlap(plot_df[plot_df[\"true_positive\"]==1][\"rmsd\"],\n",
    "       plot_df[plot_df[\"true_positive\"]==0][\"rmsd\"])"
   ]
  },
  {
   "cell_type": "markdown",
   "metadata": {},
   "source": [
    "## Set 2"
   ]
  },
  {
   "cell_type": "code",
   "execution_count": 29,
   "metadata": {},
   "outputs": [],
   "source": [
    "SET = \"set2\"\n",
    "templates_file = f\"output/templates/{SET}/templates\""
   ]
  },
  {
   "cell_type": "code",
   "execution_count": 16,
   "metadata": {},
   "outputs": [],
   "source": [
    "# Create templates\n",
    "def subsetAtoms(atom_array):\n",
    "    \"\"\"\n",
    "    \n",
    "        Subset atoms from atom array\n",
    "    \n",
    "    \"\"\"\n",
    "    subset = []\n",
    "    for atom in atom_array:\n",
    "        \n",
    "        if atom.res_name == \"ASP\":\n",
    "            if atom.atom_name == \"OD1\":\n",
    "                subset.append(atom)\n",
    "            elif atom.atom_name == \"OD2\":\n",
    "                subset.append(atom)\n",
    "            elif atom.atom_name == \"CG\":\n",
    "                subset.append(atom)\n",
    "                \n",
    "        elif atom.res_name == \"ASN\":\n",
    "            if atom.atom_name == \"OD1\":\n",
    "                subset.append(atom)\n",
    "            elif atom.atom_name == \"ND2\":\n",
    "                subset.append(atom)\n",
    "            elif atom.atom_name == \"CG\":\n",
    "                subset.append(atom)\n",
    "                \n",
    "        elif atom.res_name == \"GLU\":\n",
    "            if atom.atom_name == \"OE1\":\n",
    "                subset.append(atom)\n",
    "            elif atom.atom_name == \"OE2\":\n",
    "                subset.append(atom)\n",
    "            elif atom.atom_name == \"CD\":\n",
    "                subset.append(atom)\n",
    "        \n",
    "        elif atom.res_name == \"LYS\":\n",
    "            if atom.atom_name == \"NZ\":\n",
    "                subset.append(atom)\n",
    "            elif atom.atom_name == \"CE\":\n",
    "                subset.append(atom)\n",
    "\n",
    "    return struc.array(subset)"
   ]
  },
  {
   "cell_type": "code",
   "execution_count": 17,
   "metadata": {},
   "outputs": [],
   "source": [
    "templates_path = f\"output/templates/{SET}\"\n",
    "os.makedirs(templates_path, exist_ok=True)\n",
    "used_templates = createTemplates(df=df, out_templates=templates_path, sub=subsetAtoms)"
   ]
  },
  {
   "cell_type": "code",
   "execution_count": 18,
   "metadata": {},
   "outputs": [],
   "source": [
    "templates_file = f\"output/templates/{SET}/templates\"\n",
    "with open(templates_file, \"w\") as fh:\n",
    "    for file in used_templates:\n",
    "        fh.write(f\"{file}\\n\")"
   ]
  },
  {
   "cell_type": "code",
   "execution_count": 30,
   "metadata": {},
   "outputs": [],
   "source": [
    "# Distance must be 1.5*RMSD\n",
    "cache_table = f\"output/{SET}_cached.csv\"\n",
    "if not os.path.exists(cache_table):\n",
    "    distance=5\n",
    "    rmsd_threshold, distance_cutoff, max_allowed_distance = [str(distance)]*3\n",
    "    cmd = [str(JESS), str(templates_file), str(INPUT_STRUCTURES_FILES), rmsd_threshold, distance_cutoff, max_allowed_distance]\n",
    "    \n",
    "    process = subprocess.Popen(\n",
    "        cmd, text=True, stdin=subprocess.PIPE, stdout=subprocess.PIPE, stderr=subprocess.PIPE\n",
    "    )\n",
    "    stdout, stderr = process.communicate()\n",
    "    res_df = parse(stdout)\n",
    "    res_df.to_csv(cache_table, index=False)\n",
    "else:\n",
    "    res_df = pd.read_csv(cache_table)"
   ]
  },
  {
   "cell_type": "code",
   "execution_count": 31,
   "metadata": {},
   "outputs": [],
   "source": [
    "res_df[\"true_positive\"] = 0\n",
    "templates = df[\"id\"].str.lower().unique()\n",
    "res_df.loc[res_df[\"target_id\"].isin(templates), \"true_positive\"] = 1\n",
    "res_df[\"template_id\"] = res_df.apply(lambda x: x[\"template\"].lower()+\"_\"+x[\"template_residues\"], axis=1)"
   ]
  },
  {
   "cell_type": "code",
   "execution_count": 32,
   "metadata": {},
   "outputs": [],
   "source": [
    "# Consider only matches with identity < 30 (apply only to positive set)\n",
    "# Exclude self matches\n",
    "plot_df = pd.merge(res_df, identity_df[identity_df[\"identity\"]>0.3].rename(columns={\"Query\":\"target_id\", \"Target\":\"template_id\"})\\\n",
    "        .assign(allowed=0), on=[\"target_id\", \"template_id\"], how=\"left\").fillna(1)\\\n",
    "        .query('allowed==1').query('target_id!=template_id')\n",
    "# Exclude some entries:\n",
    "to_exclude = df[(df[\"Bad rotamer\"])|(df[\"Interchain\"])|(~df[\"Is bonded\"])|(df[\"Unusual geometry/chemistry\"])][\"id\"].str.lower().to_list()\n",
    "plot_df = plot_df[~plot_df[\"target_id\"].isin(to_exclude)]\n",
    "# Remove duplicated entries from template-target inversion and only after this remove rmsd-duplicates\n",
    "plot_df[\"merged_id\"] = plot_df.apply(lambda x: \"-\".join(sorted([x[\"target_id\"], x[\"template_id\"]])), axis=1)\n",
    "plot_df = plot_df.drop_duplicates(\"merged_id\")\\\n",
    "        .sort_values(\"rmsd\").drop_duplicates([\"target\", \"target_residues\"], keep=\"first\")"
   ]
  },
  {
   "cell_type": "code",
   "execution_count": 33,
   "metadata": {},
   "outputs": [
    {
     "data": {
      "text/plain": [
       "<Axes: xlabel='rmsd', ylabel='Percent'>"
      ]
     },
     "execution_count": 33,
     "metadata": {},
     "output_type": "execute_result"
    },
    {
     "data": {
      "image/png": "[encoded data removed]",
      "text/plain": [
       "<Figure size 640x480 with 1 Axes>"
      ]
     },
     "metadata": {},
     "output_type": "display_data"
    }
   ],
   "source": [
    "sns.histplot(plot_df, x=\"rmsd\", hue=\"true_positive\", fill=False, element=\"step\", common_norm=False, stat=\"percent\")"
   ]
  },
  {
   "cell_type": "code",
   "execution_count": 34,
   "metadata": {},
   "outputs": [
    {
     "data": {
      "text/plain": [
       "262"
      ]
     },
     "execution_count": 34,
     "metadata": {},
     "output_type": "execute_result"
    }
   ],
   "source": [
    "overlap(plot_df[plot_df[\"true_positive\"]==1][\"rmsd\"],\n",
    "       plot_df[plot_df[\"true_positive\"]==0][\"rmsd\"])"
   ]
  },
  {
   "cell_type": "markdown",
   "metadata": {},
   "source": [
    "## Set 4"
   ]
  },
  {
   "cell_type": "code",
   "execution_count": 24,
   "metadata": {},
   "outputs": [],
   "source": [
    "SET = \"set4\"\n",
    "templates_file = f\"output/templates/{SET}/templates\""
   ]
  },
  {
   "cell_type": "code",
   "execution_count": 36,
   "metadata": {},
   "outputs": [],
   "source": [
    "def subsetAtoms(atom_array):\n",
    "    \"\"\"\n",
    "    \n",
    "        Subset atoms from atom array\n",
    "    \n",
    "    \"\"\"\n",
    "    subset = []\n",
    "    for atom in atom_array:\n",
    "        \n",
    "        if atom.res_name == \"ASP\":\n",
    "            if atom.atom_name == \"CA\":\n",
    "                subset.append(atom)\n",
    "            elif atom.atom_name == \"CB\":\n",
    "                subset.append(atom)\n",
    "            elif atom.atom_name == \"CG\":\n",
    "                subset.append(atom)\n",
    "                \n",
    "        elif atom.res_name == \"ASN\":\n",
    "            if atom.atom_name == \"CA\":\n",
    "                subset.append(atom)\n",
    "            elif atom.atom_name == \"CB\":\n",
    "                subset.append(atom)\n",
    "            elif atom.atom_name == \"CG\":\n",
    "                subset.append(atom)\n",
    "                \n",
    "        elif atom.res_name == \"GLU\":\n",
    "            if atom.atom_name == \"CB\":\n",
    "                subset.append(atom)\n",
    "            elif atom.atom_name == \"CG\":\n",
    "                subset.append(atom)\n",
    "            elif atom.atom_name == \"CD\":\n",
    "                subset.append(atom)\n",
    "        \n",
    "        elif atom.res_name == \"LYS\":\n",
    "            if atom.atom_name == \"CG\":\n",
    "                subset.append(atom)\n",
    "            elif atom.atom_name == \"CD\":\n",
    "                subset.append(atom)\n",
    "            elif atom.atom_name == \"CE\":\n",
    "                subset.append(atom)\n",
    "\n",
    "    return struc.array(subset)"
   ]
  },
  {
   "cell_type": "code",
   "execution_count": 96,
   "metadata": {},
   "outputs": [],
   "source": [
    "templates_path = f\"output/templates/{SET}\"\n",
    "os.makedirs(templates_path, exist_ok=True)\n",
    "used_templates = createTemplates(df=df, out_templates=templates_path, sub=subsetAtoms)"
   ]
  },
  {
   "cell_type": "code",
   "execution_count": 27,
   "metadata": {},
   "outputs": [],
   "source": [
    "templates_file = f\"output/templates/{SET}/templates\"\n",
    "with open(templates_file, \"w\") as fh:\n",
    "    for file in used_templates:\n",
    "        fh.write(f\"{file}\\n\")"
   ]
  },
  {
   "cell_type": "code",
   "execution_count": 25,
   "metadata": {
    "scrolled": true
   },
   "outputs": [],
   "source": [
    "# Distance must be 1.5*RMSD\n",
    "cache_table = f\"output/{SET}_cached.csv\"\n",
    "if not os.path.exists(cache_table):\n",
    "    distance=5\n",
    "    rmsd_threshold, distance_cutoff, max_allowed_distance = [str(distance)]*3\n",
    "    cmd = [str(JESS), str(templates_file), str(INPUT_STRUCTURES_FILES), rmsd_threshold, distance_cutoff, max_allowed_distance]\n",
    "    \n",
    "    process = subprocess.Popen(\n",
    "        cmd, text=True, stdin=subprocess.PIPE, stdout=subprocess.PIPE, stderr=subprocess.PIPE\n",
    "    )\n",
    "    stdout, stderr = process.communicate()\n",
    "    res_df = parse(stdout)\n",
    "    res_df.to_csv(cache_table, index=False)\n",
    "else:\n",
    "    res_df = pd.read_csv(cache_table)"
   ]
  },
  {
   "cell_type": "code",
   "execution_count": 26,
   "metadata": {},
   "outputs": [],
   "source": [
    "res_df[\"true_positive\"] = 0\n",
    "templates = df[\"id\"].str.lower().unique()\n",
    "res_df.loc[res_df[\"target_id\"].isin(templates), \"true_positive\"] = 1\n",
    "res_df[\"template_id\"] = res_df.apply(lambda x: x[\"template\"].lower()+\"_\"+x[\"template_residues\"], axis=1)"
   ]
  },
  {
   "cell_type": "code",
   "execution_count": 27,
   "metadata": {},
   "outputs": [],
   "source": [
    "# Consider only matches with identity < 30 (apply only to positive set)\n",
    "# Exclude self matches\n",
    "plot_df = pd.merge(res_df, identity_df[identity_df[\"identity\"]>0.3].rename(columns={\"Query\":\"target_id\", \"Target\":\"template_id\"})\\\n",
    "        .assign(allowed=0), on=[\"target_id\", \"template_id\"], how=\"left\").fillna(1)\\\n",
    "        .query('allowed==1').query('target_id!=template_id')\n",
    "# Exclude some entries:\n",
    "to_exclude = df[(df[\"Bad rotamer\"])|(df[\"Interchain\"])|(~df[\"Is bonded\"])|(df[\"Unusual geometry/chemistry\"])][\"id\"].str.lower().to_list()\n",
    "plot_df = plot_df[~plot_df[\"target_id\"].isin(to_exclude)]\n",
    "# Remove duplicated entries from template-target inversion and only after this remove rmsd-duplicates\n",
    "plot_df[\"merged_id\"] = plot_df.apply(lambda x: \"-\".join(sorted([x[\"target_id\"], x[\"template_id\"]])), axis=1)\n",
    "plot_df = plot_df.drop_duplicates(\"merged_id\")\\\n",
    "        .sort_values(\"rmsd\").drop_duplicates([\"target\", \"target_residues\"], keep=\"first\")"
   ]
  },
  {
   "cell_type": "code",
   "execution_count": 28,
   "metadata": {},
   "outputs": [
    {
     "data": {
      "image/png": "[encoded data removed]",
      "text/plain": [
       "<Figure size 640x480 with 1 Axes>"
      ]
     },
     "metadata": {},
     "output_type": "display_data"
    }
   ],
   "source": [
    "fig, ax = plt.subplots()\n",
    "\n",
    "sns.histplot(plot_df, x=\"rmsd\", hue=\"true_positive\", fill=False, element=\"step\", common_norm=False, stat=\"percent\", ax=ax)\n",
    "sns.despine(offset=10, ax=ax)\n",
    "ax.legend(title=\"\", labels=[\"Positive\", \"Negative\"])\n",
    "ax.set_xlim([0, 3])\n",
    "ax.set_ylim([0, 30])\n",
    "\n",
    "ax.set_xlabel(\"RMSD template-target\")\n",
    "\n",
    "plt.savefig(\"../../tmp/set4.png\", dpi=400, transparent=True, bbox_inches=\"tight\")"
   ]
  },
  {
   "cell_type": "code",
   "execution_count": 41,
   "metadata": {},
   "outputs": [
    {
     "data": {
      "text/plain": [
       "0"
      ]
     },
     "execution_count": 41,
     "metadata": {},
     "output_type": "execute_result"
    }
   ],
   "source": [
    "overlap(plot_df[plot_df[\"true_positive\"]==1][\"rmsd\"],\n",
    "       plot_df[plot_df[\"true_positive\"]==0][\"rmsd\"])"
   ]
  },
  {
   "cell_type": "markdown",
   "metadata": {},
   "source": [
    "## Set 5"
   ]
  },
  {
   "cell_type": "code",
   "execution_count": 42,
   "metadata": {},
   "outputs": [],
   "source": [
    "SET = \"set5\"\n",
    "templates_file = f\"output/templates/{SET}/templates\""
   ]
  },
  {
   "cell_type": "code",
   "execution_count": 34,
   "metadata": {},
   "outputs": [],
   "source": [
    "def subsetAtoms(atom_array):\n",
    "    \"\"\"\n",
    "    \n",
    "        Subset atoms from atom array\n",
    "    \n",
    "    \"\"\"\n",
    "    subset = []\n",
    "    for atom in atom_array:\n",
    "        \n",
    "        if atom.res_name == \"ASP\":\n",
    "            if atom.atom_name == \"CB\":\n",
    "                subset.append(atom)\n",
    "            elif atom.atom_name == \"CG\":\n",
    "                subset.append(atom)\n",
    "                \n",
    "        elif atom.res_name == \"ASN\":\n",
    "            if atom.atom_name == \"CB\":\n",
    "                subset.append(atom)\n",
    "            elif atom.atom_name == \"CG\":\n",
    "                subset.append(atom)\n",
    "                \n",
    "        elif atom.res_name == \"GLU\":\n",
    "            if atom.atom_name == \"CG\":\n",
    "                subset.append(atom)\n",
    "            elif atom.atom_name == \"CD\":\n",
    "                subset.append(atom)\n",
    "        \n",
    "        elif atom.res_name == \"LYS\":\n",
    "            if atom.atom_name == \"CD\":\n",
    "                subset.append(atom)\n",
    "            elif atom.atom_name == \"CE\":\n",
    "                subset.append(atom)\n",
    "\n",
    "    return struc.array(subset)"
   ]
  },
  {
   "cell_type": "code",
   "execution_count": 35,
   "metadata": {},
   "outputs": [],
   "source": [
    "templates_path = f\"output/templates/{SET}\"\n",
    "os.makedirs(templates_path, exist_ok=True)\n",
    "used_templates = createTemplates(df=df, out_templates=templates_path, sub=subsetAtoms)"
   ]
  },
  {
   "cell_type": "code",
   "execution_count": 36,
   "metadata": {},
   "outputs": [],
   "source": [
    "templates_file = f\"output/templates/{SET}/templates\"\n",
    "with open(templates_file, \"w\") as fh:\n",
    "    for file in used_templates:\n",
    "        fh.write(f\"{file}\\n\")"
   ]
  },
  {
   "cell_type": "code",
   "execution_count": 43,
   "metadata": {},
   "outputs": [],
   "source": [
    "# Distance must be 1.5*RMSD\n",
    "cache_table = f\"output/{SET}_cached.csv\"\n",
    "if not os.path.exists(cache_table):\n",
    "    distance=5\n",
    "    rmsd_threshold, distance_cutoff, max_allowed_distance = [str(distance)]*3\n",
    "    cmd = [str(JESS), str(templates_file), str(INPUT_STRUCTURES_FILES), rmsd_threshold, distance_cutoff, max_allowed_distance]\n",
    "    \n",
    "    process = subprocess.Popen(\n",
    "        cmd, text=True, stdin=subprocess.PIPE, stdout=subprocess.PIPE, stderr=subprocess.PIPE\n",
    "    )\n",
    "    stdout, stderr = process.communicate()\n",
    "    res_df = parse(stdout)\n",
    "    res_df.to_csv(cache_table, index=False)\n",
    "else:\n",
    "    res_df = pd.read_csv(cache_table)"
   ]
  },
  {
   "cell_type": "code",
   "execution_count": 44,
   "metadata": {},
   "outputs": [],
   "source": [
    "res_df[\"true_positive\"] = 0\n",
    "templates = df[\"id\"].str.lower().unique()\n",
    "res_df.loc[res_df[\"target_id\"].isin(templates), \"true_positive\"] = 1\n",
    "res_df[\"template_id\"] = res_df.apply(lambda x: x[\"template\"].lower()+\"_\"+x[\"template_residues\"], axis=1)"
   ]
  },
  {
   "cell_type": "code",
   "execution_count": 45,
   "metadata": {},
   "outputs": [],
   "source": [
    "# Consider only matches with identity < 30 (apply only to positive set)\n",
    "# Exclude self matches\n",
    "plot_df = pd.merge(res_df, identity_df[identity_df[\"identity\"]>0.3].rename(columns={\"Query\":\"target_id\", \"Target\":\"template_id\"})\\\n",
    "        .assign(allowed=0), on=[\"target_id\", \"template_id\"], how=\"left\").fillna(1)\\\n",
    "        .query('allowed==1').query('target_id!=template_id')\n",
    "# Exclude some entries:\n",
    "to_exclude = df[(df[\"Bad rotamer\"])|(df[\"Interchain\"])|(~df[\"Is bonded\"])|(df[\"Unusual geometry/chemistry\"])][\"id\"].str.lower().to_list()\n",
    "plot_df = plot_df[~plot_df[\"target_id\"].isin(to_exclude)]\n",
    "# Remove duplicated entries from template-target inversion and only after this remove rmsd-duplicates\n",
    "plot_df[\"merged_id\"] = plot_df.apply(lambda x: \"-\".join(sorted([x[\"target_id\"], x[\"template_id\"]])), axis=1)\n",
    "plot_df = plot_df.drop_duplicates(\"merged_id\")\\\n",
    "        .sort_values(\"rmsd\").drop_duplicates([\"target\", \"target_residues\"], keep=\"first\")"
   ]
  },
  {
   "cell_type": "code",
   "execution_count": 46,
   "metadata": {},
   "outputs": [
    {
     "data": {
      "text/plain": [
       "<Axes: xlabel='rmsd', ylabel='Percent'>"
      ]
     },
     "execution_count": 46,
     "metadata": {},
     "output_type": "execute_result"
    },
    {
     "data": {
      "image/png": "[encoded data removed]",
      "text/plain": [
       "<Figure size 640x480 with 1 Axes>"
      ]
     },
     "metadata": {},
     "output_type": "display_data"
    }
   ],
   "source": [
    "sns.histplot(plot_df, x=\"rmsd\", hue=\"true_positive\", fill=False, element=\"step\", common_norm=False, stat=\"percent\")"
   ]
  },
  {
   "cell_type": "code",
   "execution_count": 47,
   "metadata": {},
   "outputs": [
    {
     "data": {
      "text/plain": [
       "17"
      ]
     },
     "execution_count": 47,
     "metadata": {},
     "output_type": "execute_result"
    }
   ],
   "source": [
    "overlap(plot_df[plot_df[\"true_positive\"]==1][\"rmsd\"],\n",
    "       plot_df[plot_df[\"true_positive\"]==0][\"rmsd\"])"
   ]
  },
  {
   "cell_type": "markdown",
   "metadata": {
    "scrolled": true
   },
   "source": [
    "## Set 6"
   ]
  },
  {
   "cell_type": "code",
   "execution_count": 48,
   "metadata": {},
   "outputs": [],
   "source": [
    "SET = \"set6\"\n",
    "templates_file = f\"output/templates/{SET}/templates\""
   ]
  },
  {
   "cell_type": "code",
   "execution_count": 43,
   "metadata": {},
   "outputs": [],
   "source": [
    "def subsetAtoms(atom_array):\n",
    "    \"\"\"\n",
    "    \n",
    "        Subset atoms from atom array\n",
    "    \n",
    "    \"\"\"\n",
    "    subset = []\n",
    "    for atom in atom_array:\n",
    "        \n",
    "        if atom.res_name == \"ASP\":\n",
    "            if atom.atom_name == \"CA\":\n",
    "                subset.append(atom)\n",
    "            elif atom.atom_name == \"CB\":\n",
    "                subset.append(atom)\n",
    "                \n",
    "        elif atom.res_name == \"ASN\":\n",
    "            if atom.atom_name == \"CA\":\n",
    "                subset.append(atom)\n",
    "            elif atom.atom_name == \"CB\":\n",
    "                subset.append(atom)\n",
    "                \n",
    "        elif atom.res_name == \"GLU\":\n",
    "            if atom.atom_name == \"CA\":\n",
    "                subset.append(atom)\n",
    "            elif atom.atom_name == \"CG\":\n",
    "                subset.append(atom)\n",
    "        \n",
    "        elif atom.res_name == \"LYS\":\n",
    "            if atom.atom_name == \"CG\":\n",
    "                subset.append(atom)\n",
    "            elif atom.atom_name == \"CD\":\n",
    "                subset.append(atom)\n",
    "\n",
    "    return struc.array(subset)"
   ]
  },
  {
   "cell_type": "code",
   "execution_count": 44,
   "metadata": {},
   "outputs": [],
   "source": [
    "templates_path = f\"output/templates/{SET}\"\n",
    "os.makedirs(templates_path, exist_ok=True)\n",
    "used_templates = createTemplates(df=df, out_templates=templates_path, sub=subsetAtoms)"
   ]
  },
  {
   "cell_type": "code",
   "execution_count": 45,
   "metadata": {},
   "outputs": [],
   "source": [
    "templates_file = f\"output/templates/{SET}/templates\"\n",
    "with open(templates_file, \"w\") as fh:\n",
    "    for file in used_templates:\n",
    "        fh.write(f\"{file}\\n\")"
   ]
  },
  {
   "cell_type": "code",
   "execution_count": 49,
   "metadata": {},
   "outputs": [],
   "source": [
    "# Distance must be 1.5*RMSD\n",
    "cache_table = f\"output/{SET}_cached.csv\"\n",
    "if not os.path.exists(cache_table):\n",
    "    distance=5\n",
    "    rmsd_threshold, distance_cutoff, max_allowed_distance = [str(distance)]*3\n",
    "    cmd = [str(JESS), str(templates_file), str(INPUT_STRUCTURES_FILES), rmsd_threshold, distance_cutoff, max_allowed_distance]\n",
    "    \n",
    "    process = subprocess.Popen(\n",
    "        cmd, text=True, stdin=subprocess.PIPE, stdout=subprocess.PIPE, stderr=subprocess.PIPE\n",
    "    )\n",
    "    stdout, stderr = process.communicate()\n",
    "    res_df = parse(stdout)\n",
    "    res_df.to_csv(cache_table, index=False)\n",
    "else:\n",
    "    res_df = pd.read_csv(cache_table)"
   ]
  },
  {
   "cell_type": "code",
   "execution_count": 50,
   "metadata": {},
   "outputs": [],
   "source": [
    "res_df[\"true_positive\"] = 0\n",
    "templates = df[\"id\"].str.lower().unique()\n",
    "res_df.loc[res_df[\"target_id\"].isin(templates), \"true_positive\"] = 1\n",
    "res_df[\"template_id\"] = res_df.apply(lambda x: x[\"template\"].lower()+\"_\"+x[\"template_residues\"], axis=1)"
   ]
  },
  {
   "cell_type": "code",
   "execution_count": 51,
   "metadata": {},
   "outputs": [],
   "source": [
    "# Consider only matches with identity < 30 (apply only to positive set)\n",
    "# Exclude self matches\n",
    "plot_df = pd.merge(res_df, identity_df[identity_df[\"identity\"]>0.3].rename(columns={\"Query\":\"target_id\", \"Target\":\"template_id\"})\\\n",
    "        .assign(allowed=0), on=[\"target_id\", \"template_id\"], how=\"left\").fillna(1)\\\n",
    "        .query('allowed==1').query('target_id!=template_id')\n",
    "# Exclude some entries:\n",
    "to_exclude = df[(df[\"Bad rotamer\"])|(df[\"Interchain\"])|(~df[\"Is bonded\"])|(df[\"Unusual geometry/chemistry\"])][\"id\"].str.lower().to_list()\n",
    "plot_df = plot_df[~plot_df[\"target_id\"].isin(to_exclude)]\n",
    "# Remove duplicated entries from template-target inversion and only after this remove rmsd-duplicates\n",
    "plot_df[\"merged_id\"] = plot_df.apply(lambda x: \"-\".join(sorted([x[\"target_id\"], x[\"template_id\"]])), axis=1)\n",
    "plot_df = plot_df.drop_duplicates(\"merged_id\")\\\n",
    "        .sort_values(\"rmsd\").drop_duplicates([\"target\", \"target_residues\"], keep=\"first\")"
   ]
  },
  {
   "cell_type": "code",
   "execution_count": 52,
   "metadata": {},
   "outputs": [
    {
     "data": {
      "text/plain": [
       "<Axes: xlabel='rmsd', ylabel='Percent'>"
      ]
     },
     "execution_count": 52,
     "metadata": {},
     "output_type": "execute_result"
    },
    {
     "data": {
      "image/png": "[encoded data removed]",
      "text/plain": [
       "<Figure size 640x480 with 1 Axes>"
      ]
     },
     "metadata": {},
     "output_type": "display_data"
    }
   ],
   "source": [
    "sns.histplot(plot_df, x=\"rmsd\", hue=\"true_positive\", fill=False, element=\"step\", common_norm=False, stat=\"percent\")"
   ]
  },
  {
   "cell_type": "code",
   "execution_count": 53,
   "metadata": {},
   "outputs": [
    {
     "data": {
      "text/plain": [
       "82"
      ]
     },
     "execution_count": 53,
     "metadata": {},
     "output_type": "execute_result"
    }
   ],
   "source": [
    "overlap(plot_df[plot_df[\"true_positive\"]==1][\"rmsd\"],\n",
    "       plot_df[plot_df[\"true_positive\"]==0][\"rmsd\"])"
   ]
  },
  {
   "cell_type": "markdown",
   "metadata": {},
   "source": [
    "## Set 7"
   ]
  },
  {
   "cell_type": "code",
   "execution_count": 54,
   "metadata": {},
   "outputs": [],
   "source": [
    "SET = \"set7\"\n",
    "templates_file = f\"output/templates/{SET}/templates\""
   ]
  },
  {
   "cell_type": "code",
   "execution_count": 55,
   "metadata": {},
   "outputs": [],
   "source": [
    "def subsetAtoms(atom_array):\n",
    "    \"\"\"\n",
    "    \n",
    "        Subset atoms from atom array\n",
    "    \n",
    "    \"\"\"\n",
    "    subset = []\n",
    "    for atom in atom_array:\n",
    "        \n",
    "        if atom.res_name == \"ASP\":\n",
    "            if atom.atom_name == \"CA\":\n",
    "                subset.append(atom)\n",
    "            elif atom.atom_name == \"CG\":\n",
    "                subset.append(atom)\n",
    "                \n",
    "        elif atom.res_name == \"ASN\":\n",
    "            if atom.atom_name == \"CA\":\n",
    "                subset.append(atom)\n",
    "            elif atom.atom_name == \"CG\":\n",
    "                subset.append(atom)\n",
    "                \n",
    "        elif atom.res_name == \"GLU\":\n",
    "            if atom.atom_name == \"CB\":\n",
    "                subset.append(atom)\n",
    "            elif atom.atom_name == \"CD\":\n",
    "                subset.append(atom)\n",
    "        \n",
    "        elif atom.res_name == \"LYS\":\n",
    "            if atom.atom_name == \"CG\":\n",
    "                subset.append(atom)\n",
    "            elif atom.atom_name == \"CE\":\n",
    "                subset.append(atom)\n",
    "\n",
    "    return struc.array(subset)"
   ]
  },
  {
   "cell_type": "code",
   "execution_count": 119,
   "metadata": {},
   "outputs": [],
   "source": [
    "templates_path = f\"output/templates/{SET}\"\n",
    "os.makedirs(templates_path, exist_ok=True)\n",
    "used_templates = createTemplates(df=df, out_templates=templates_path, sub=subsetAtoms)"
   ]
  },
  {
   "cell_type": "code",
   "execution_count": 120,
   "metadata": {},
   "outputs": [],
   "source": [
    "templates_file = f\"output/templates/{SET}/templates\"\n",
    "with open(templates_file, \"w\") as fh:\n",
    "    for file in used_templates:\n",
    "        fh.write(f\"{file}\\n\")"
   ]
  },
  {
   "cell_type": "code",
   "execution_count": 56,
   "metadata": {},
   "outputs": [],
   "source": [
    "# Distance must be 1.5*RMSD\n",
    "cache_table = f\"output/{SET}_cached.csv\"\n",
    "if not os.path.exists(cache_table):\n",
    "    distance=5\n",
    "    rmsd_threshold, distance_cutoff, max_allowed_distance = [str(distance)]*3\n",
    "    cmd = [str(JESS), str(templates_file), str(INPUT_STRUCTURES_FILES), rmsd_threshold, distance_cutoff, max_allowed_distance]\n",
    "    \n",
    "    process = subprocess.Popen(\n",
    "        cmd, text=True, stdin=subprocess.PIPE, stdout=subprocess.PIPE, stderr=subprocess.PIPE\n",
    "    )\n",
    "    stdout, stderr = process.communicate()\n",
    "    res_df = parse(stdout)\n",
    "    res_df.to_csv(cache_table, index=False)\n",
    "else:\n",
    "    res_df = pd.read_csv(cache_table)"
   ]
  },
  {
   "cell_type": "code",
   "execution_count": 57,
   "metadata": {},
   "outputs": [],
   "source": [
    "res_df[\"true_positive\"] = 0\n",
    "templates = df[\"id\"].str.lower().unique()\n",
    "res_df.loc[res_df[\"target_id\"].isin(templates), \"true_positive\"] = 1\n",
    "res_df[\"template_id\"] = res_df.apply(lambda x: x[\"template\"].lower()+\"_\"+x[\"template_residues\"], axis=1)"
   ]
  },
  {
   "cell_type": "code",
   "execution_count": 58,
   "metadata": {},
   "outputs": [],
   "source": [
    "# Consider only matches with identity < 30 (apply only to positive set)\n",
    "# Exclude self matches\n",
    "plot_df = pd.merge(res_df, identity_df[identity_df[\"identity\"]>0.3].rename(columns={\"Query\":\"target_id\", \"Target\":\"template_id\"})\\\n",
    "        .assign(allowed=0), on=[\"target_id\", \"template_id\"], how=\"left\").fillna(1)\\\n",
    "        .query('allowed==1').query('target_id!=template_id')\n",
    "# Exclude some entries:\n",
    "to_exclude = df[(df[\"Bad rotamer\"])|(df[\"Interchain\"])|(~df[\"Is bonded\"])|(df[\"Unusual geometry/chemistry\"])][\"id\"].str.lower().to_list()\n",
    "plot_df = plot_df[~plot_df[\"target_id\"].isin(to_exclude)]\n",
    "# Remove duplicated entries from template-target inversion and only after this remove rmsd-duplicates\n",
    "plot_df[\"merged_id\"] = plot_df.apply(lambda x: \"-\".join(sorted([x[\"target_id\"], x[\"template_id\"]])), axis=1)\n",
    "plot_df = plot_df.drop_duplicates(\"merged_id\")\\\n",
    "        .sort_values(\"rmsd\").drop_duplicates([\"target\", \"target_residues\"], keep=\"first\")"
   ]
  },
  {
   "cell_type": "code",
   "execution_count": 59,
   "metadata": {},
   "outputs": [
    {
     "data": {
      "text/plain": [
       "<Axes: xlabel='rmsd', ylabel='Percent'>"
      ]
     },
     "execution_count": 59,
     "metadata": {},
     "output_type": "execute_result"
    },
    {
     "data": {
      "image/png": "[encoded data removed]",
      "text/plain": [
       "<Figure size 640x480 with 1 Axes>"
      ]
     },
     "metadata": {},
     "output_type": "display_data"
    }
   ],
   "source": [
    "sns.histplot(plot_df, x=\"rmsd\", hue=\"true_positive\", fill=False, element=\"step\", common_norm=False, stat=\"percent\")"
   ]
  },
  {
   "cell_type": "code",
   "execution_count": 60,
   "metadata": {},
   "outputs": [
    {
     "data": {
      "text/plain": [
       "2"
      ]
     },
     "execution_count": 60,
     "metadata": {},
     "output_type": "execute_result"
    }
   ],
   "source": [
    "overlap(plot_df[plot_df[\"true_positive\"]==1][\"rmsd\"],\n",
    "       plot_df[plot_df[\"true_positive\"]==0][\"rmsd\"])"
   ]
  },
  {
   "cell_type": "markdown",
   "metadata": {},
   "source": [
    "## Set 8\n",
    "\n",
    "This set consists of set 4 atoms but allowing asn/asp at second bond position\n",
    "and glu/asp at catalyitic position. Allow also search by atom type."
   ]
  },
  {
   "cell_type": "code",
   "execution_count": 35,
   "metadata": {},
   "outputs": [
    {
     "data": {
      "text/plain": [
       "Residue 2  Residue 3\n",
       "E          N            93\n",
       "D          N            72\n",
       "E          D            22\n",
       "A          N             1\n",
       "S          N             1\n",
       "Name: count, dtype: int64"
      ]
     },
     "execution_count": 35,
     "metadata": {},
     "output_type": "execute_result"
    }
   ],
   "source": [
    "cond1 = (df[\"Is bonded\"] == True)\n",
    "cond2 = (df[\"Interchain\"] == False)\n",
    "cond3 = (df[\"Isopeptide type\"] != \"Mutant\")\n",
    "    \n",
    "df[cond1 & cond2 & cond3].value_counts([\"Residue 2\", \"Residue 3\"])"
   ]
  },
  {
   "cell_type": "code",
   "execution_count": 11,
   "metadata": {},
   "outputs": [],
   "source": [
    "def createTemplates(df:pd.DataFrame, out_templates:str, sub:Callable) -> list:\n",
    "    \"\"\"\n",
    "    \n",
    "\n",
    "        Create Jess templates\n",
    "\n",
    "        PARAMETERS\n",
    "        ----------\n",
    "        df:pd.DataFrame, data frame storing isopeptide bond formations\n",
    "        out_templates:str, path to output folder\n",
    "        sub:Callable, function to subset atoms to be used as templates\n",
    "\n",
    "        RETURNS\n",
    "        -------\n",
    "        used_templates:list, list of used templates\n",
    "    \n",
    "    \"\"\"\n",
    "    # Create templates\n",
    "    shutil.rmtree(out_templates)\n",
    "    os.makedirs(out_templates, exist_ok=True)\n",
    "    \n",
    "    # Specify conditions for templates\n",
    "    \n",
    "    cond1 = (df[\"Is bonded\"] == True)\n",
    "    cond2 = (df[\"Interchain\"] == False)\n",
    "    cond3 = (df[\"Bad rotamer\"] == False)\n",
    "    cond4 = (df[\"Isopeptide type\"] != \"Mutant\")\n",
    "    cond5 = (df[\"Resolution\"]<=2.5)\n",
    "    cond6 = (df[\"Unusual geometry/chemistry\"]==False)\n",
    "    \n",
    "    sub_df = df[cond1 & cond2 & cond3 & cond4 & cond5 & cond6]\n",
    "    \n",
    "    # Use the same template for all to align\n",
    "    ref_chain = sub_df.iloc[0][\"Chain\"]\n",
    "    ref_pdb = sub_df.iloc[0][\"PDB code\"]\n",
    "    ref_r1 = sub_df.iloc[0][\"Position 1\\r\\n(Bond 1)\"]\n",
    "    ref_r2 = sub_df.iloc[0][\"Position 2\\r\\n(catalytic)\"]\n",
    "    ref_r3 = sub_df.iloc[0][\"Position 3\\r\\n(Bond 2)\"]\n",
    "    ref_residues = [ref_r1, ref_r2, ref_r3]\n",
    "    \n",
    "    ref_s_path = os.path.join(POSITIVE_DATASET, f\"{ref_pdb}_{ref_chain}.pdb\")\n",
    "    pdb_file = pdb.PDBFile.read(ref_s_path)\n",
    "    ref_s = pdb_file.get_structure()\n",
    "    # Subset only lys\n",
    "    ref_template = struc.array([atom for atom in ref_s[0] if atom.res_id == ref_r1])\n",
    "    used_templates = []\n",
    "    \n",
    "    for _, row in sub_df.iterrows():\n",
    "        chain = row[\"Chain\"]\n",
    "        pdb_code = row[\"PDB code\"]\n",
    "        r1 = row[\"Position 1\\r\\n(Bond 1)\"]\n",
    "        r2 = row[\"Position 2\\r\\n(catalytic)\"]\n",
    "        r3 = row[\"Position 3\\r\\n(Bond 2)\"]\n",
    "        s2_path = os.path.join(POSITIVE_DATASET, f\"{pdb_code}_{chain}.pdb\")\n",
    "        pdb_file = pdb.PDBFile.read(s2_path) \n",
    "        s2 = pdb_file.get_structure() \n",
    "        s2_res = [r1, r2, r3]\n",
    "        out_struct_path = os.path.join(out_templates, f\"{pdb_code}_{chain}_{int(r1)}_{int(r2)}_{int(r3)}.pdb\")\n",
    "        s2_sub = struc.array([atom for atom in s2[0] if atom.res_id in s2_res and \"H\" not in atom.atom_name])\n",
    "        s2_lys = struc.array([atom for atom in s2[0] if atom.res_id == r1 and \"H\" not in atom.atom_name])\n",
    "        s2_t = None\n",
    "        try:\n",
    "            _, transformation = struc.superimpose(fixed=ref_template, mobile=s2_lys)\n",
    "            # Apply transformation based on K to rest of residue\n",
    "            s2_t = transformation.apply(s2_sub)\n",
    "            \n",
    "        except ValueError:\n",
    "            print(f\"Transformation error for: {pdb_code}, number of residues in K {r1} is {len(s2_lys)}, expected: {len(ref_template)}\")\n",
    "            # Skip if no NZ\n",
    "            if not \"NZ\" in [atom.atom_name for atom in s2_lys]:\n",
    "                print(\"Found no NZ atom, skipping\")\n",
    "                continue\n",
    "            # Reduce atoms from template cause mobile Lys could have less atoms (usually no N)\n",
    "            atoms_to_consider = [atom.atom_name for atom in s2_lys]\n",
    "            ref_template_reduced = struc.array([atom for atom in ref_template if atom.atom_name in atoms_to_consider])\n",
    "            # Try again\n",
    "            _, transformation = struc.superimpose(fixed=ref_template_reduced, mobile=s2_lys)\n",
    "            # Apply transformation based on K to rest of residue\n",
    "            s2_t = struc.superimpose_apply(s2_sub, transformation)\n",
    "    \n",
    "        # Subset\n",
    "        s2_t = sub(s2_t)\n",
    "        # Res type == 0 means \"Search by atom type\"\n",
    "        res_type = 0\n",
    "        atom_format_string = (\n",
    "            \"%s%7i  %-4s%3s %c%4i    %8.3f%8.3f%8.3f  %s\\n\"\n",
    "        )\n",
    "        with open(out_struct_path, \"w\") as fh:\n",
    "            \n",
    "            for atom in s2_t:\n",
    "                if atom.res_id == r2:\n",
    "                    j = tuple(\n",
    "                        [\n",
    "                            \"ATOM\", res_type, atom.atom_name, atom.res_name,\n",
    "                            atom.chain_id, atom.res_id, atom.coord[0], atom.coord[1], atom.coord[2], \n",
    "                            \"DE\" # Consider these amino acids\n",
    "                        ]\n",
    "                    )\n",
    "                elif atom.res_id == r3:\n",
    "                    j = tuple(\n",
    "                        [\n",
    "                            \"ATOM\", res_type, atom.atom_name, atom.res_name,\n",
    "                            atom.chain_id, atom.res_id, atom.coord[0], atom.coord[1], atom.coord[2], \n",
    "                            \"ND\" # Consider these amino acids\n",
    "                        ]\n",
    "                    )\n",
    "                else:\n",
    "                    j = tuple(\n",
    "                        [\n",
    "                            \"ATOM\", res_type, atom.atom_name, atom.res_name,\n",
    "                            atom.chain_id, atom.res_id, atom.coord[0], atom.coord[1], atom.coord[2], \n",
    "                            \"K\" # Consider these amino acids\n",
    "                        ]\n",
    "                    )\n",
    "                \n",
    "                fh.write(atom_format_string % j)\n",
    "        \n",
    "        used_templates.append(out_struct_path)\n",
    "\n",
    "    return used_templates\n",
    "\n",
    "def subsetAtoms(atom_array):\n",
    "    \"\"\"\n",
    "    \n",
    "        Subset atoms from atom array\n",
    "    \n",
    "    \"\"\"\n",
    "    subset = []\n",
    "    for atom in atom_array:\n",
    "        \n",
    "        if atom.res_name == \"ASP\":\n",
    "            if atom.atom_name == \"CA\":\n",
    "                subset.append(atom)\n",
    "            elif atom.atom_name == \"CB\":\n",
    "                subset.append(atom)\n",
    "            elif atom.atom_name == \"CG\":\n",
    "                subset.append(atom)\n",
    "                \n",
    "        elif atom.res_name == \"ASN\":\n",
    "            if atom.atom_name == \"CA\":\n",
    "                subset.append(atom)\n",
    "            elif atom.atom_name == \"CB\":\n",
    "                subset.append(atom)\n",
    "            elif atom.atom_name == \"CG\":\n",
    "                subset.append(atom)\n",
    "                \n",
    "        elif atom.res_name == \"GLU\":\n",
    "            if atom.atom_name == \"CB\":\n",
    "                subset.append(atom)\n",
    "            elif atom.atom_name == \"CG\":\n",
    "                subset.append(atom)\n",
    "            elif atom.atom_name == \"CD\":\n",
    "                subset.append(atom)\n",
    "        \n",
    "        elif atom.res_name == \"LYS\":\n",
    "            if atom.atom_name == \"CG\":\n",
    "                subset.append(atom)\n",
    "            elif atom.atom_name == \"CD\":\n",
    "                subset.append(atom)\n",
    "            elif atom.atom_name == \"CE\":\n",
    "                subset.append(atom)\n",
    "\n",
    "    return struc.array(subset)"
   ]
  },
  {
   "cell_type": "code",
   "execution_count": 12,
   "metadata": {},
   "outputs": [],
   "source": [
    "SET = \"set8\"\n",
    "templates_file = f\"output/templates/{SET}/templates\""
   ]
  },
  {
   "cell_type": "code",
   "execution_count": 13,
   "metadata": {},
   "outputs": [],
   "source": [
    "templates_path = f\"output/templates/{SET}\"\n",
    "os.makedirs(templates_path, exist_ok=True)\n",
    "used_templates = createTemplates(df=df, out_templates=templates_path, sub=subsetAtoms)"
   ]
  },
  {
   "cell_type": "code",
   "execution_count": 14,
   "metadata": {},
   "outputs": [],
   "source": [
    "templates_file = f\"output/templates/{SET}/templates\"\n",
    "with open(templates_file, \"w\") as fh:\n",
    "    for file in used_templates:\n",
    "        fh.write(f\"{file}\\n\")"
   ]
  },
  {
   "cell_type": "code",
   "execution_count": 29,
   "metadata": {},
   "outputs": [],
   "source": [
    "# Distance must be 1.5*RMSD\n",
    "cache_table = f\"output/{SET}_cached.csv\"\n",
    "if not os.path.exists(cache_table):\n",
    "    distance=3\n",
    "    rmsd_threshold, distance_cutoff, max_allowed_distance = [str(distance)]*3\n",
    "    cmd = [str(JESS), str(templates_file), str(INPUT_STRUCTURES_FILES), rmsd_threshold, distance_cutoff, max_allowed_distance]\n",
    "    \n",
    "    process = subprocess.Popen(\n",
    "        cmd, text=True, stdin=subprocess.PIPE, stdout=subprocess.PIPE, stderr=subprocess.PIPE\n",
    "    )\n",
    "    stdout, stderr = process.communicate()\n",
    "    res_df = parse(stdout)\n",
    "    res_df.to_csv(cache_table, index=False)\n",
    "else:\n",
    "    res_df = pd.read_csv(cache_table)"
   ]
  },
  {
   "cell_type": "code",
   "execution_count": 30,
   "metadata": {},
   "outputs": [],
   "source": [
    "res_df[\"true_positive\"] = 0\n",
    "templates = df[\"id\"].str.lower().unique()\n",
    "res_df.loc[res_df[\"target_id\"].isin(templates), \"true_positive\"] = 1\n",
    "res_df[\"template_id\"] = res_df.apply(lambda x: x[\"template\"].lower()+\"_\"+x[\"template_residues\"], axis=1)"
   ]
  },
  {
   "cell_type": "code",
   "execution_count": 31,
   "metadata": {},
   "outputs": [],
   "source": [
    "# Consider only matches with identity < 30 (apply only to positive set)\n",
    "# Exclude self matches\n",
    "plot_df = pd.merge(res_df, identity_df[identity_df[\"identity\"]>0.3].rename(columns={\"Query\":\"target_id\", \"Target\":\"template_id\"})\\\n",
    "        .assign(allowed=0), on=[\"target_id\", \"template_id\"], how=\"left\").fillna(1)\\\n",
    "        .query('allowed==1').query('target_id!=template_id')\n",
    "# Exclude some entries:\n",
    "to_exclude = df[(df[\"Bad rotamer\"])|(df[\"Interchain\"])|(~df[\"Is bonded\"])|(df[\"Unusual geometry/chemistry\"])][\"id\"].str.lower().to_list()\n",
    "plot_df = plot_df[~plot_df[\"target_id\"].isin(to_exclude)]\n",
    "# Remove duplicated entries from template-target inversion and only after this remove rmsd-duplicates\n",
    "plot_df[\"merged_id\"] = plot_df.apply(lambda x: \"-\".join(sorted([x[\"target_id\"], x[\"template_id\"]])), axis=1)\n",
    "plot_df = plot_df.drop_duplicates(\"merged_id\")\\\n",
    "        .sort_values(\"rmsd\").drop_duplicates([\"target\", \"target_residues\"], keep=\"first\")"
   ]
  },
  {
   "cell_type": "code",
   "execution_count": 32,
   "metadata": {},
   "outputs": [
    {
     "data": {
      "text/plain": [
       "Text(0.5, 0, 'RMSD template-target')"
      ]
     },
     "execution_count": 32,
     "metadata": {},
     "output_type": "execute_result"
    },
    {
     "data": {
      "image/png": "[encoded data removed]",
      "text/plain": [
       "<Figure size 640x480 with 1 Axes>"
      ]
     },
     "metadata": {},
     "output_type": "display_data"
    }
   ],
   "source": [
    "fig, ax = plt.subplots()\n",
    "\n",
    "sns.histplot(plot_df, x=\"rmsd\", hue=\"true_positive\", fill=False, element=\"step\", common_norm=False, stat=\"percent\", ax=ax)\n",
    "sns.despine(offset=10, ax=ax)\n",
    "ax.legend(title=\"\", labels=[\"Positive\", \"Negative\"])\n",
    "ax.set_xlim([0, 3])\n",
    "ax.set_ylim([0, 30])\n",
    "\n",
    "ax.set_xlabel(\"RMSD template-target\")"
   ]
  },
  {
   "cell_type": "code",
   "execution_count": 36,
   "metadata": {},
   "outputs": [
    {
     "data": {
      "text/plain": [
       "834"
      ]
     },
     "execution_count": 36,
     "metadata": {},
     "output_type": "execute_result"
    }
   ],
   "source": [
    "overlap(plot_df[plot_df[\"true_positive\"]==1][\"rmsd\"],\n",
    "       plot_df[plot_df[\"true_positive\"]==0][\"rmsd\"])"
   ]
  },
  {
   "cell_type": "code",
   "execution_count": 38,
   "metadata": {},
   "outputs": [
    {
     "data": {
      "text/html": [
       "<div>\n",
       "<style scoped>\n",
       "    .dataframe tbody tr th:only-of-type {\n",
       "        vertical-align: middle;\n",
       "    }\n",
       "\n",
       "    .dataframe tbody tr th {\n",
       "        vertical-align: top;\n",
       "    }\n",
       "\n",
       "    .dataframe thead th {\n",
       "        text-align: right;\n",
       "    }\n",
       "</style>\n",
       "<table border=\"1\" class=\"dataframe\">\n",
       "  <thead>\n",
       "    <tr style=\"text-align: right;\">\n",
       "      <th></th>\n",
       "      <th>target</th>\n",
       "      <th>target_path</th>\n",
       "      <th>rmsd</th>\n",
       "      <th>template</th>\n",
       "      <th>chain</th>\n",
       "      <th>target_residues</th>\n",
       "      <th>template_residues</th>\n",
       "      <th>target_id</th>\n",
       "      <th>true_positive</th>\n",
       "      <th>template_id</th>\n",
       "      <th>identity</th>\n",
       "      <th>allowed</th>\n",
       "      <th>merged_id</th>\n",
       "    </tr>\n",
       "  </thead>\n",
       "  <tbody>\n",
       "    <tr>\n",
       "      <th>244525</th>\n",
       "      <td>2x9x_A</td>\n",
       "      <td>/nfs/research/agb/research/francesco/projects/...</td>\n",
       "      <td>0.628</td>\n",
       "      <td>2x9z_A</td>\n",
       "      <td>A</td>\n",
       "      <td>192_194_208</td>\n",
       "      <td>193_241_318</td>\n",
       "      <td>2x9x_a_192_194_208</td>\n",
       "      <td>0</td>\n",
       "      <td>2x9z_a_193_241_318</td>\n",
       "      <td>1.0</td>\n",
       "      <td>1.0</td>\n",
       "      <td>2x9x_a_192_194_208-2x9z_a_193_241_318</td>\n",
       "    </tr>\n",
       "    <tr>\n",
       "      <th>9948</th>\n",
       "      <td>1I24</td>\n",
       "      <td>1I24</td>\n",
       "      <td>0.712</td>\n",
       "      <td>3gle_A</td>\n",
       "      <td>A</td>\n",
       "      <td>99_142_189</td>\n",
       "      <td>179_258_303</td>\n",
       "      <td>1i24_a_99_142_189</td>\n",
       "      <td>0</td>\n",
       "      <td>3gle_a_179_258_303</td>\n",
       "      <td>1.0</td>\n",
       "      <td>1.0</td>\n",
       "      <td>1i24_a_99_142_189-3gle_a_179_258_303</td>\n",
       "    </tr>\n",
       "    <tr>\n",
       "      <th>255496</th>\n",
       "      <td>3rpk_A</td>\n",
       "      <td>/nfs/research/agb/research/francesco/projects/...</td>\n",
       "      <td>0.737</td>\n",
       "      <td>4uzg_A</td>\n",
       "      <td>A</td>\n",
       "      <td>192_194_208</td>\n",
       "      <td>187_225_330</td>\n",
       "      <td>3rpk_a_192_194_208</td>\n",
       "      <td>0</td>\n",
       "      <td>4uzg_a_187_225_330</td>\n",
       "      <td>1.0</td>\n",
       "      <td>1.0</td>\n",
       "      <td>3rpk_a_192_194_208-4uzg_a_187_225_330</td>\n",
       "    </tr>\n",
       "    <tr>\n",
       "      <th>228795</th>\n",
       "      <td>2y1v_A</td>\n",
       "      <td>/nfs/research/agb/research/francesco/projects/...</td>\n",
       "      <td>0.751</td>\n",
       "      <td>2x9y_A</td>\n",
       "      <td>A</td>\n",
       "      <td>192_194_208</td>\n",
       "      <td>193_241_318</td>\n",
       "      <td>2y1v_a_192_194_208</td>\n",
       "      <td>0</td>\n",
       "      <td>2x9y_a_193_241_318</td>\n",
       "      <td>1.0</td>\n",
       "      <td>1.0</td>\n",
       "      <td>2x9y_a_193_241_318-2y1v_a_192_194_208</td>\n",
       "    </tr>\n",
       "    <tr>\n",
       "      <th>3738</th>\n",
       "      <td>5RKZ</td>\n",
       "      <td>5RKZ</td>\n",
       "      <td>0.754</td>\n",
       "      <td>6m48_A</td>\n",
       "      <td>A</td>\n",
       "      <td>2_4_276</td>\n",
       "      <td>108_395_470</td>\n",
       "      <td>5rkz_a_2_4_276</td>\n",
       "      <td>0</td>\n",
       "      <td>6m48_a_108_395_470</td>\n",
       "      <td>1.0</td>\n",
       "      <td>1.0</td>\n",
       "      <td>5rkz_a_2_4_276-6m48_a_108_395_470</td>\n",
       "    </tr>\n",
       "    <tr>\n",
       "      <th>...</th>\n",
       "      <td>...</td>\n",
       "      <td>...</td>\n",
       "      <td>...</td>\n",
       "      <td>...</td>\n",
       "      <td>...</td>\n",
       "      <td>...</td>\n",
       "      <td>...</td>\n",
       "      <td>...</td>\n",
       "      <td>...</td>\n",
       "      <td>...</td>\n",
       "      <td>...</td>\n",
       "      <td>...</td>\n",
       "      <td>...</td>\n",
       "    </tr>\n",
       "    <tr>\n",
       "      <th>92497</th>\n",
       "      <td>7PXY</td>\n",
       "      <td>7PXY</td>\n",
       "      <td>2.287</td>\n",
       "      <td>3qe5_A</td>\n",
       "      <td>A</td>\n",
       "      <td>403_404_427</td>\n",
       "      <td>1338_1387_1473</td>\n",
       "      <td>7pxy_a_403_404_427</td>\n",
       "      <td>0</td>\n",
       "      <td>3qe5_a_1338_1387_1473</td>\n",
       "      <td>1.0</td>\n",
       "      <td>1.0</td>\n",
       "      <td>3qe5_a_1338_1387_1473-7pxy_a_403_404_427</td>\n",
       "    </tr>\n",
       "    <tr>\n",
       "      <th>51022</th>\n",
       "      <td>6D7A</td>\n",
       "      <td>6D7A</td>\n",
       "      <td>2.302</td>\n",
       "      <td>3qe5_A</td>\n",
       "      <td>A</td>\n",
       "      <td>1008_1064_1072</td>\n",
       "      <td>1338_1387_1473</td>\n",
       "      <td>6d7a_a_1008_1064_1072</td>\n",
       "      <td>0</td>\n",
       "      <td>3qe5_a_1338_1387_1473</td>\n",
       "      <td>1.0</td>\n",
       "      <td>1.0</td>\n",
       "      <td>3qe5_a_1338_1387_1473-6d7a_a_1008_1064_1072</td>\n",
       "    </tr>\n",
       "    <tr>\n",
       "      <th>162702</th>\n",
       "      <td>6L61</td>\n",
       "      <td>6L61</td>\n",
       "      <td>2.394</td>\n",
       "      <td>3qe5_A</td>\n",
       "      <td>A</td>\n",
       "      <td>294_296_323</td>\n",
       "      <td>1161_1211_1311</td>\n",
       "      <td>6l61_a_294_296_323</td>\n",
       "      <td>0</td>\n",
       "      <td>3qe5_a_1161_1211_1311</td>\n",
       "      <td>1.0</td>\n",
       "      <td>1.0</td>\n",
       "      <td>3qe5_a_1161_1211_1311-6l61_a_294_296_323</td>\n",
       "    </tr>\n",
       "    <tr>\n",
       "      <th>77808</th>\n",
       "      <td>3D1P</td>\n",
       "      <td>3D1P</td>\n",
       "      <td>2.499</td>\n",
       "      <td>5yu5_A</td>\n",
       "      <td>A</td>\n",
       "      <td>40_89_92</td>\n",
       "      <td>186_242_337</td>\n",
       "      <td>3d1p_a_40_89_92</td>\n",
       "      <td>0</td>\n",
       "      <td>5yu5_a_186_242_337</td>\n",
       "      <td>1.0</td>\n",
       "      <td>1.0</td>\n",
       "      <td>3d1p_a_40_89_92-5yu5_a_186_242_337</td>\n",
       "    </tr>\n",
       "    <tr>\n",
       "      <th>256794</th>\n",
       "      <td>2wza_A</td>\n",
       "      <td>/nfs/research/agb/research/francesco/projects/...</td>\n",
       "      <td>2.564</td>\n",
       "      <td>2x9y_A</td>\n",
       "      <td>A</td>\n",
       "      <td>1096_1229_1251</td>\n",
       "      <td>453_577_623</td>\n",
       "      <td>2wza_a_1096_1229_1251</td>\n",
       "      <td>0</td>\n",
       "      <td>2x9y_a_453_577_623</td>\n",
       "      <td>1.0</td>\n",
       "      <td>1.0</td>\n",
       "      <td>2wza_a_1096_1229_1251-2x9y_a_453_577_623</td>\n",
       "    </tr>\n",
       "  </tbody>\n",
       "</table>\n",
       "<p>2630 rows × 13 columns</p>\n",
       "</div>"
      ],
      "text/plain": [
       "        target                                        target_path   rmsd  \\\n",
       "244525  2x9x_A  /nfs/research/agb/research/francesco/projects/...  0.628   \n",
       "9948      1I24                                               1I24  0.712   \n",
       "255496  3rpk_A  /nfs/research/agb/research/francesco/projects/...  0.737   \n",
       "228795  2y1v_A  /nfs/research/agb/research/francesco/projects/...  0.751   \n",
       "3738      5RKZ                                               5RKZ  0.754   \n",
       "...        ...                                                ...    ...   \n",
       "92497     7PXY                                               7PXY  2.287   \n",
       "51022     6D7A                                               6D7A  2.302   \n",
       "162702    6L61                                               6L61  2.394   \n",
       "77808     3D1P                                               3D1P  2.499   \n",
       "256794  2wza_A  /nfs/research/agb/research/francesco/projects/...  2.564   \n",
       "\n",
       "       template chain target_residues template_residues  \\\n",
       "244525   2x9z_A     A     192_194_208       193_241_318   \n",
       "9948     3gle_A     A      99_142_189       179_258_303   \n",
       "255496   4uzg_A     A     192_194_208       187_225_330   \n",
       "228795   2x9y_A     A     192_194_208       193_241_318   \n",
       "3738     6m48_A     A         2_4_276       108_395_470   \n",
       "...         ...   ...             ...               ...   \n",
       "92497    3qe5_A     A     403_404_427    1338_1387_1473   \n",
       "51022    3qe5_A     A  1008_1064_1072    1338_1387_1473   \n",
       "162702   3qe5_A     A     294_296_323    1161_1211_1311   \n",
       "77808    5yu5_A     A        40_89_92       186_242_337   \n",
       "256794   2x9y_A     A  1096_1229_1251       453_577_623   \n",
       "\n",
       "                    target_id  true_positive            template_id  identity  \\\n",
       "244525     2x9x_a_192_194_208              0     2x9z_a_193_241_318       1.0   \n",
       "9948        1i24_a_99_142_189              0     3gle_a_179_258_303       1.0   \n",
       "255496     3rpk_a_192_194_208              0     4uzg_a_187_225_330       1.0   \n",
       "228795     2y1v_a_192_194_208              0     2x9y_a_193_241_318       1.0   \n",
       "3738           5rkz_a_2_4_276              0     6m48_a_108_395_470       1.0   \n",
       "...                       ...            ...                    ...       ...   \n",
       "92497      7pxy_a_403_404_427              0  3qe5_a_1338_1387_1473       1.0   \n",
       "51022   6d7a_a_1008_1064_1072              0  3qe5_a_1338_1387_1473       1.0   \n",
       "162702     6l61_a_294_296_323              0  3qe5_a_1161_1211_1311       1.0   \n",
       "77808         3d1p_a_40_89_92              0     5yu5_a_186_242_337       1.0   \n",
       "256794  2wza_a_1096_1229_1251              0     2x9y_a_453_577_623       1.0   \n",
       "\n",
       "        allowed                                    merged_id  \n",
       "244525      1.0        2x9x_a_192_194_208-2x9z_a_193_241_318  \n",
       "9948        1.0         1i24_a_99_142_189-3gle_a_179_258_303  \n",
       "255496      1.0        3rpk_a_192_194_208-4uzg_a_187_225_330  \n",
       "228795      1.0        2x9y_a_193_241_318-2y1v_a_192_194_208  \n",
       "3738        1.0            5rkz_a_2_4_276-6m48_a_108_395_470  \n",
       "...         ...                                          ...  \n",
       "92497       1.0     3qe5_a_1338_1387_1473-7pxy_a_403_404_427  \n",
       "51022       1.0  3qe5_a_1338_1387_1473-6d7a_a_1008_1064_1072  \n",
       "162702      1.0     3qe5_a_1161_1211_1311-6l61_a_294_296_323  \n",
       "77808       1.0           3d1p_a_40_89_92-5yu5_a_186_242_337  \n",
       "256794      1.0     2wza_a_1096_1229_1251-2x9y_a_453_577_623  \n",
       "\n",
       "[2630 rows x 13 columns]"
      ]
     },
     "execution_count": 38,
     "metadata": {},
     "output_type": "execute_result"
    }
   ],
   "source": [
    "plot_df[plot_df[\"true_positive\"]==0]"
   ]
  },
  {
   "cell_type": "code",
   "execution_count": null,
   "metadata": {},
   "outputs": [],
   "source": []
  }
 ],
 "metadata": {
  "kernelspec": {
   "display_name": "Python 3 (ipykernel)",
   "language": "python",
   "name": "python3"
  },
  "language_info": {
   "codemirror_mode": {
    "name": "ipython",
    "version": 3
   },
   "file_extension": ".py",
   "mimetype": "text/x-python",
   "name": "python",
   "nbconvert_exporter": "python",
   "pygments_lexer": "ipython3",
   "version": "3.12.2"
  }
 },
 "nbformat": 4,
 "nbformat_minor": 4
}
